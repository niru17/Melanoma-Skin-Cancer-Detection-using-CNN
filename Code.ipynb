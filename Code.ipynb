{
 "cells": [
  {
   "cell_type": "code",
   "execution_count": 3,
   "metadata": {
    "id": "i7s6a9qNTowt"
   },
   "outputs": [],
   "source": [
    "import numpy as np\n",
    "import pandas as pd\n",
    "import matplotlib.pyplot as plt\n",
    "import seaborn as sns\n",
    "import plotly.express as px\n",
    "from warnings import filterwarnings as filt\n",
    "import cv2\n",
    "import os\n",
    "from sklearn.model_selection import train_test_split\n",
    "from torchvision.datasets import ImageFolder\n",
    "import torchvision.transforms as transforms\n",
    "import random\n",
    "from sklearn.model_selection import train_test_split"
   ]
  },
  {
   "cell_type": "code",
   "execution_count": 4,
   "metadata": {
    "colab": {
     "base_uri": "https://localhost:8080/"
    },
    "id": "VSbv1Zy_yAOw",
    "outputId": "2563931f-6f97-4164-aa1f-89acf5cbe175"
   },
   "outputs": [
    {
     "ename": "ModuleNotFoundError",
     "evalue": "No module named 'google.colab'",
     "output_type": "error",
     "traceback": [
      "\u001b[1;31m---------------------------------------------------------------------------\u001b[0m",
      "\u001b[1;31mModuleNotFoundError\u001b[0m                       Traceback (most recent call last)",
      "Input \u001b[1;32mIn [4]\u001b[0m, in \u001b[0;36m<cell line: 1>\u001b[1;34m()\u001b[0m\n\u001b[1;32m----> 1\u001b[0m \u001b[38;5;28;01mfrom\u001b[39;00m \u001b[38;5;21;01mgoogle\u001b[39;00m\u001b[38;5;21;01m.\u001b[39;00m\u001b[38;5;21;01mcolab\u001b[39;00m \u001b[38;5;28;01mimport\u001b[39;00m drive\n\u001b[0;32m      2\u001b[0m drive\u001b[38;5;241m.\u001b[39mmount(\u001b[38;5;124m'\u001b[39m\u001b[38;5;124m/content/drive\u001b[39m\u001b[38;5;124m'\u001b[39m)\n",
      "\u001b[1;31mModuleNotFoundError\u001b[0m: No module named 'google.colab'"
     ]
    }
   ],
   "source": [
    "from google.colab import drive\n",
    "drive.mount('/content/drive')"
   ]
  },
  {
   "cell_type": "code",
   "execution_count": null,
   "metadata": {
    "id": "wDi70LpsVw2i"
   },
   "outputs": [],
   "source": [
    "# Data Loading\n",
    "base_path = \"/content/drive/MyDrive/Machine Learning/melanoma_cancer_dataset/\"\n",
    "train_path = os.path.join(base_path, 'train')\n",
    "test_path  = os.path.join(base_path, 'test')"
   ]
  },
  {
   "cell_type": "code",
   "execution_count": null,
   "metadata": {
    "id": "baLxWYr18iCk"
   },
   "outputs": [],
   "source": [
    "def dataset(path):\n",
    "    data = {\n",
    "        'img_path' : [],\n",
    "        'target_class'   : [],\n",
    "    }\n",
    "    for class_name in os.listdir(path):\n",
    "        ip = [os.path.join(class_name, i) for i in os.listdir(os.path.join(path, class_name))]\n",
    "        data['img_path'] += ip\n",
    "        data['target_class']   += [class_name] * len(ip)\n",
    "\n",
    "    print(f'Total no of images : {len(data[\"img_path\"])}')\n",
    "    return data"
   ]
  },
  {
   "cell_type": "code",
   "execution_count": null,
   "metadata": {
    "colab": {
     "base_uri": "https://localhost:8080/"
    },
    "id": "eNjXyE5-8clk",
    "outputId": "22123661-4106-4b0b-d4e5-2acf8e7e52e3"
   },
   "outputs": [],
   "source": [
    "data = dataset(train_path)\n",
    "df = pd.DataFrame(data)"
   ]
  },
  {
   "cell_type": "code",
   "execution_count": null,
   "metadata": {
    "colab": {
     "base_uri": "https://localhost:8080/",
     "height": 206
    },
    "id": "HeZCtb8M6vKz",
    "outputId": "4557f4bb-a0c7-48fa-9714-139aa58063d0"
   },
   "outputs": [],
   "source": [
    "df.head()"
   ]
  },
  {
   "cell_type": "code",
   "execution_count": null,
   "metadata": {
    "colab": {
     "base_uri": "https://localhost:8080/"
    },
    "id": "tLU4eC32wL1K",
    "outputId": "2f322432-64ec-44a4-cbe5-f4e90a849f9f"
   },
   "outputs": [],
   "source": [
    "df.count()"
   ]
  },
  {
   "cell_type": "code",
   "execution_count": null,
   "metadata": {
    "colab": {
     "base_uri": "https://localhost:8080/"
    },
    "id": "NQ8Jq2DG6giN",
    "outputId": "5f5cbec0-b476-4da5-ce17-940b2448dc41"
   },
   "outputs": [],
   "source": [
    "train = ImageFolder(train_path, transform=transforms.ToTensor())\n",
    "train[0][1]"
   ]
  },
  {
   "cell_type": "code",
   "execution_count": null,
   "metadata": {
    "id": "zdUtHZCs9rk_"
   },
   "outputs": [],
   "source": [
    "def show_images(train, num_imgs, col):\n",
    "    row = 0;\n",
    "    if num_imgs % col == 0:\n",
    "        row = num_imgs // col\n",
    "    else:\n",
    "        row = (num_imgs // col) + 1\n",
    "\n",
    "    plt.figure(figsize = (col * 4, row * 4))\n",
    "\n",
    "    for i in range(num_imgs):\n",
    "        img = train[random.randint(0,9000)][0].permute(1, 2, 0)\n",
    "        plt.subplot(row, col, i + 1)\n",
    "\n",
    "        plt.imshow(img)\n",
    "        plt.axis(False)\n",
    "\n",
    "    plt.show()"
   ]
  },
  {
   "cell_type": "code",
   "execution_count": null,
   "metadata": {
    "colab": {
     "base_uri": "https://localhost:8080/",
     "height": 258
    },
    "id": "76LjDDyo-sO1",
    "outputId": "b7653ebe-3497-4fc9-b055-d47a6ac0bb41"
   },
   "outputs": [],
   "source": [
    "# Images before preprocessing\n",
    "show_images(train, 5, 5)"
   ]
  },
  {
   "cell_type": "code",
   "execution_count": null,
   "metadata": {
    "id": "Akwn4Ixy7jTX"
   },
   "outputs": [],
   "source": [
    "import albumentations as alb\n",
    "from keras.preprocessing.image import ImageDataGenerator"
   ]
  },
  {
   "cell_type": "code",
   "execution_count": null,
   "metadata": {
    "id": "xs5QCWdIXId3"
   },
   "outputs": [],
   "source": [
    "# data augmentation techniques in transforms\n",
    "def transforms(image, normalize = True):\n",
    "    transform = alb.Compose([\n",
    "        alb.OneOf([\n",
    "            alb.Rotate(limit = 60, border_mode = cv2.BORDER_CONSTANT),\n",
    "            alb.Rotate(limit = 100, border_mode = cv2.BORDER_CONSTANT),\n",
    "        ], p = 1),\n",
    "        alb.HorizontalFlip(), alb.VerticalFlip(),\n",
    "        alb.CenterCrop(250 ,250, p = 0.4),\n",
    "        alb.GaussianBlur(p = 0.5),alb.Resize(250, 250)\n",
    "    ])\n",
    "    x = transform(image = image)['image']\n",
    "    if normalize:\n",
    "        x = x / 255\n",
    "    return x"
   ]
  },
  {
   "cell_type": "code",
   "execution_count": null,
   "metadata": {
    "id": "hIrwIvyW8Be4"
   },
   "outputs": [],
   "source": [
    "def create_image_data_generator(df, train_path, x, y, data_gen_args = {}, **kwargs):\n",
    "    imagegen = ImageDataGenerator(**data_gen_args)\n",
    "    data_loader = imagegen.flow_from_dataframe(df, train_path, x_col = x, y_col = y, **kwargs)\n",
    "    return data_loader"
   ]
  },
  {
   "cell_type": "code",
   "execution_count": null,
   "metadata": {
    "id": "gWvaWsAws5r_"
   },
   "outputs": [],
   "source": [
    "def sample(x, y, frac = 0.2, return_val = True):\n",
    "    x,xt, y, yt = train_test_split(x, y, test_size = frac, stratify = y)\n",
    "    train = pd.concat([x, y], axis = 1)\n",
    "    val = pd.concat([xt, yt], axis = 1)\n",
    "    if return_val:\n",
    "        return train, val\n",
    "    return train"
   ]
  },
  {
   "cell_type": "code",
   "execution_count": null,
   "metadata": {
    "colab": {
     "base_uri": "https://localhost:8080/"
    },
    "id": "spSeXprNtC8s",
    "outputId": "c7025881-f63b-4701-8f67-4527a4acc3ea"
   },
   "outputs": [],
   "source": [
    "x = df.drop(['target_class'], axis = 1)\n",
    "y = df.target_class\n",
    "\n",
    "train_df, val_df = sample(x, y, 0.15)\n",
    "train_df.shape"
   ]
  },
  {
   "cell_type": "code",
   "execution_count": null,
   "metadata": {
    "colab": {
     "base_uri": "https://localhost:8080/"
    },
    "id": "Ojt12XMeXNu4",
    "outputId": "8cc95e45-f39c-4230-f939-951463491d23"
   },
   "outputs": [],
   "source": [
    "# creating a data loader\n",
    "t_dargs = {\n",
    "    'preprocessing_function' : transforms\n",
    "}\n",
    "\n",
    "v_dargs = {\n",
    "    'preprocessing_function' : lambda x : x / 255\n",
    "}\n",
    "\n",
    "train_loader = create_image_data_generator(train_df, train_path, 'img_path', 'target_class', t_dargs, batch_size = 64,\n",
    "                               color_mode = 'rgb', class_mode = 'categorical', target_size = (250, 250), shuffle = True)\n",
    "val_loader = create_image_data_generator(val_df, train_path, 'img_path', 'target_class', v_dargs, batch_size = 64,\n",
    "                               color_mode = 'rgb', class_mode = 'categorical', target_size = (300, 300), shuffle = False)"
   ]
  },
  {
   "cell_type": "code",
   "execution_count": null,
   "metadata": {
    "colab": {
     "base_uri": "https://localhost:8080/"
    },
    "id": "HxZae06JVz0J",
    "outputId": "36e11eb2-175b-441e-aed7-00dd00f579ce"
   },
   "outputs": [],
   "source": [
    "type(train_loader)"
   ]
  },
  {
   "cell_type": "code",
   "execution_count": null,
   "metadata": {
    "colab": {
     "base_uri": "https://localhost:8080/"
    },
    "id": "0_JYDKklJeTM",
    "outputId": "7490bc98-b6ec-4afa-f58d-1e754dc85c96"
   },
   "outputs": [],
   "source": [
    "type(train_loader)"
   ]
  },
  {
   "cell_type": "code",
   "execution_count": null,
   "metadata": {
    "id": "IrP6AMJh-C_X"
   },
   "outputs": [],
   "source": [
    "#method that preprocessed images\n",
    "def show_imgs_from_loader(loader, n_img, col):\n",
    "    n_img = min(loader[0][0].shape[0], n_img)\n",
    "    row = 0;\n",
    "    if n_img % col == 0:\n",
    "        row = n_img // col\n",
    "    else:\n",
    "        row = (n_img // col) + 1\n",
    "\n",
    "    images, labels = loader[0]\n",
    "\n",
    "    plt.figure(figsize = (col * 4, row * 4))\n",
    "\n",
    "    for i in range(n_img):\n",
    "        image = images[i]\n",
    "        label = labels[i]\n",
    "        plt.subplot(row, col, i + 1)\n",
    "\n",
    "        plt.imshow(image)\n",
    "        plt.axis(False)\n",
    "\n",
    "    plt.show()"
   ]
  },
  {
   "cell_type": "code",
   "execution_count": null,
   "metadata": {
    "colab": {
     "base_uri": "https://localhost:8080/",
     "height": 258
    },
    "id": "OwEzqAPv9071",
    "outputId": "8e382cfd-4982-4aa2-f33f-b83ececf99c8"
   },
   "outputs": [],
   "source": [
    "# displaying images after preprocessing\n",
    "show_imgs_from_loader(train_loader, 5, 5)"
   ]
  },
  {
   "cell_type": "code",
   "execution_count": null,
   "metadata": {
    "id": "L14M8n00gsmJ"
   },
   "outputs": [],
   "source": []
  },
  {
   "cell_type": "markdown",
   "metadata": {
    "id": "UsaWpeA9dErV"
   },
   "source": [
    "# Phase 3 - Building the model"
   ]
  },
  {
   "cell_type": "code",
   "execution_count": null,
   "metadata": {
    "id": "KWYOifyWAJlN"
   },
   "outputs": [],
   "source": [
    "from keras.models import Model\n",
    "from keras.applications.vgg16 import VGG16\n",
    "from keras.layers import Dense, MaxPool2D, Flatten"
   ]
  },
  {
   "cell_type": "code",
   "execution_count": null,
   "metadata": {
    "colab": {
     "base_uri": "https://localhost:8080/"
    },
    "id": "GL58w5JANL6Q",
    "outputId": "aeee45be-eef5-4b16-dd8f-5a17b178a9cc"
   },
   "outputs": [],
   "source": [
    "# building the model\n",
    "cnn_vgg_model = VGG16(weights = 'imagenet', include_top = False, input_shape = (224,224,3))\n",
    "\n",
    "for layer in cnn_vgg_model.layers[3:]:\n",
    "    layer.trainable = False\n",
    "\n",
    "output = Flatten()(cnn_vgg_model.output)\n",
    "output = Dense(1024, activation = 'relu')(output)\n",
    "output = Dense(512,  activation = 'relu')(output)\n",
    "output = Dense(2, activation = 'softmax')(output)\n",
    "\n",
    "cnn_vgg_model = Model(inputs = [cnn_vgg_model.input], outputs = [output])"
   ]
  },
  {
   "cell_type": "code",
   "execution_count": null,
   "metadata": {
    "colab": {
     "base_uri": "https://localhost:8080/"
    },
    "id": "9qeZi5EDmXKa",
    "outputId": "9d11f3fe-f84a-48aa-83b9-50652c684d8d"
   },
   "outputs": [],
   "source": [
    "cnn_vgg_model.summary()"
   ]
  },
  {
   "cell_type": "code",
   "execution_count": null,
   "metadata": {
    "id": "YGLnOj3bnHzl"
   },
   "outputs": [],
   "source": [
    "# Callbacks to stramline the training process.\n",
    "from keras.callbacks import ModelCheckpoint, EarlyStopping, ReduceLROnPlateau\n",
    "\n",
    "reduce_lr = ReduceLROnPlateau(monitor = 'val_loss', patience = 2, mode = 'min', verbose = 1)\n",
    "checkpoint = ModelCheckpoint('cnn-model.h5', monitor = 'val_loss', verbose = 1, save_best_only = True, mode = 'min')\n",
    "early_stop = EarlyStopping(monitor = 'val_loss', patience = 4, verbose = 1)"
   ]
  },
  {
   "cell_type": "code",
   "execution_count": null,
   "metadata": {
    "id": "zdQaVcL6akt7"
   },
   "outputs": [],
   "source": [
    "# Optimizers and Lossfunctions\n",
    "from tensorflow.keras.losses import CategoricalCrossentropy\n",
    "from tensorflow.keras.optimizers import Adam, SGD, Adagrad\n",
    "\n",
    "cnn_vgg_model.compile(optimizer = Adagrad(learning_rate = 0.01),\n",
    "              loss = CategoricalCrossentropy(),\n",
    "              metrics = ['accuracy'])"
   ]
  },
  {
   "cell_type": "code",
   "execution_count": null,
   "metadata": {
    "colab": {
     "base_uri": "https://localhost:8080/"
    },
    "id": "jfocs2QGwCWn",
    "outputId": "db23f07a-bd41-4fd5-d1e7-1a73f710e7be"
   },
   "outputs": [],
   "source": [
    "train_loader.batch_size"
   ]
  },
  {
   "cell_type": "code",
   "execution_count": null,
   "metadata": {
    "colab": {
     "base_uri": "https://localhost:8080/"
    },
    "id": "1azNkv8trdLy",
    "outputId": "3f88cd4d-7a13-40c6-cca6-c43b526ec825"
   },
   "outputs": [],
   "source": [
    "# training the model\n",
    "epoch = 1\n",
    "cnn_vgg_model.fit(\n",
    "    train_loader,\n",
    "    steps_per_epoch = np.ceil(train_df.shape[0] / train_loader.batch_size),\n",
    "    epochs = epoch,\n",
    "    callbacks = [reduce_lr, checkpoint, early_stop],\n",
    "    validation_data = val_loader,\n",
    "    shuffle = True\n",
    "    )"
   ]
  },
  {
   "cell_type": "code",
   "execution_count": null,
   "metadata": {
    "id": "yOYdwJX3GoSq"
   },
   "outputs": [],
   "source": []
  }
 ],
 "metadata": {
  "colab": {
   "provenance": []
  },
  "kernelspec": {
   "display_name": "Python 3 (ipykernel)",
   "language": "python",
   "name": "python3"
  },
  "language_info": {
   "codemirror_mode": {
    "name": "ipython",
    "version": 3
   },
   "file_extension": ".py",
   "mimetype": "text/x-python",
   "name": "python",
   "nbconvert_exporter": "python",
   "pygments_lexer": "ipython3",
   "version": "3.10.1"
  }
 },
 "nbformat": 4,
 "nbformat_minor": 4
}
